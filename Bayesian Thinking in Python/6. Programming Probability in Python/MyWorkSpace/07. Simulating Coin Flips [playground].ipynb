{
 "cells": [
  {
   "cell_type": "markdown",
   "metadata": {},
   "source": [
    "# Simulating Coin Flips [playground]\n",
    "The code below shows how you can use Python (and the `random` library) to simulate coin flips.\n",
    "\n",
    "### Instructions\n",
    "\n",
    "1. Read through the code below. What do you think you'll see when you run this code?\n",
    "\n",
    "2. Run the code. How does the output compare to what you expected?\n",
    "\n",
    "3. Run a few more times. Do you get the same result?\n",
    "\n",
    "4. How might you change the code to ensure that the \"percent heads\" is **consistently** close to 50%? Try modifying the code so that the output is consistently within 1% of 50% (HINT: you can do this by changing ONE of the numbers in the first few lines of code)."
   ]
  },
  {
   "cell_type": "code",
   "execution_count": 41,
   "metadata": {},
   "outputs": [
    {
     "name": "stdout",
     "output_type": "stream",
     "text": [
      "In 100 trials there were 50 heads and 50 tails\n",
      "PERCENT HEADS: 50.0 percent\n"
     ]
    }
   ],
   "source": [
    "# Import the random module and reference it as rd\n",
    "import random as rd\n",
    "\n",
    "num_trials = 100 # Sets the number of flips\n",
    "heads = 0 # A counter for the number of heads\n",
    "tails = 0 # A counter for the number of tails\n",
    "p_heads = 0.51 # The probability for heads\n",
    "\n",
    "# Simulate coin flips up to the num_trials specified\n",
    "for i in range(num_trials):\n",
    "    # Collect a random number between [0,1]\n",
    "    random_number = rd.random()\n",
    "    # If the number is less than heads count it as heads\n",
    "    # Otherwise, count it as tails\n",
    "    if random_number < p_heads:\n",
    "        heads = heads + 1\n",
    "    else:\n",
    "        tails += 1\n",
    "\n",
    "print(\"In\", num_trials, \"trials there were\", heads, \"heads and\", tails, \"tails\")\n",
    "print(\"PERCENT HEADS:\", 100 * heads/num_trials, \"percent\")"
   ]
  },
  {
   "cell_type": "code",
   "execution_count": 51,
   "metadata": {},
   "outputs": [
    {
     "name": "stdout",
     "output_type": "stream",
     "text": [
      "In the experiment heads percent is 53.0\n"
     ]
    }
   ],
   "source": [
    "import random as rd\n",
    "rd.seed()\n",
    "\n",
    "num_trials = 100\n",
    "heads_count = 0\n",
    "tails_count = 0\n",
    "\n",
    "for i in range(num_trials):\n",
    "    \n",
    "    toss = rd.randint(0,1)\n",
    "    if(toss==1):\n",
    "        heads_count+=1\n",
    "    else:\n",
    "        tails_count+=1\n",
    "\n",
    "print(\"In the experiment heads percent is {}\".format(100*heads_count/num_trials))        \n",
    "    "
   ]
  },
  {
   "cell_type": "code",
   "execution_count": 29,
   "metadata": {},
   "outputs": [
    {
     "data": {
      "text/plain": [
       "1"
      ]
     },
     "execution_count": 29,
     "metadata": {},
     "output_type": "execute_result"
    }
   ],
   "source": [
    "rd.randint(0,1)"
   ]
  },
  {
   "cell_type": "code",
   "execution_count": null,
   "metadata": {
    "collapsed": true
   },
   "outputs": [],
   "source": [
    "# TODO - modify ONE LINE of the above code so that \n",
    "#        running the code above consistently gives a \n",
    "#        \"percent heads\" that's between 49 - 51 percent"
   ]
  }
 ],
 "metadata": {
  "kernelspec": {
   "display_name": "Python 3",
   "language": "python",
   "name": "python3"
  },
  "language_info": {
   "codemirror_mode": {
    "name": "ipython",
    "version": 3
   },
   "file_extension": ".py",
   "mimetype": "text/x-python",
   "name": "python",
   "nbconvert_exporter": "python",
   "pygments_lexer": "ipython3",
   "version": "3.6.3"
  }
 },
 "nbformat": 4,
 "nbformat_minor": 2
}
