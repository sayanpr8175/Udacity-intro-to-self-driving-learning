{
 "cells": [
  {
   "cell_type": "markdown",
   "metadata": {},
   "source": [
    "# 2D Iteration\n",
    "\n",
    "In this demonstration, you'll see how to iterate through a 2D array used nested loops, and we'll be using our iterative skills to locate trees in this world!\n",
    "\n",
    "### Create the world"
   ]
  },
  {
   "cell_type": "code",
   "execution_count": null,
   "metadata": {},
   "outputs": [],
   "source": [
    "import numpy as np\n",
    "\n",
    "# A 6x5 robot world\n",
    "world = np.array([ [0, 0, 0, 1, 0],\n",
    "                   [0, 0, 0, 1, 0],\n",
    "                   [0, 1, 1, 0, 0],\n",
    "                   [0, 0, 0, 0, 1],\n",
    "                   [1, 0, 0, 1, 0],\n",
    "                   [1, 0, 0, 0, 0] ])\n",
    "\n",
    "# Print out some information about the world\n",
    "print(world)\n",
    "print('\\nThe shape of this array is: ' + str(world.shape))"
   ]
  },
  {
   "cell_type": "markdown",
   "metadata": {},
   "source": [
    "### Iterate through the items in the world"
   ]
  },
  {
   "cell_type": "code",
   "execution_count": null,
   "metadata": {},
   "outputs": [],
   "source": [
    "# This function uses nested for loops and knowledge\n",
    "# about the shape of the array to print out each item with it's index\n",
    "def iterate2D(world):\n",
    "    # y-dimension (rows)\n",
    "    for i in range(0, world.shape[0]):\n",
    "        # x-dimension (columns)\n",
    "        for j in range(0, world.shape[1]):\n",
    "            print('Index ['+str(i)+']['+str(j)+'] = ' +str(world[i][j]))\n",
    "\n",
    "# Call the iterate function\n",
    "print('\\n')\n",
    "iterate2D(world)"
   ]
  },
  {
   "cell_type": "code",
   "execution_count": 5,
   "metadata": {},
   "outputs": [
    {
     "name": "stdout",
     "output_type": "stream",
     "text": [
      "False\n",
      "True\n",
      "False\n",
      "False\n",
      "False\n",
      "False\n",
      "True\n",
      "False\n",
      "True\n",
      "False\n",
      "False\n",
      "True\n"
     ]
    }
   ],
   "source": [
    "import numpy as np\n",
    "\n",
    "# A 4x5 robot world of characters 'o' and 'b'\n",
    "world = np.array([ ['o', 'b', 'o', 'o', 'b'],\n",
    "                   ['o', 'o', 'b', 'o', 'o'],\n",
    "                   ['b', 'o', 'o', 'b', 'o'],\n",
    "                   ['b', 'o', 'o', 'o', 'o'] ])\n",
    "\n",
    "# Sensor measurement\n",
    "measurement = ['b', 'o']\n",
    "\n",
    "# This function takes in the world and the sensor measurement.\n",
    "# Complete this function so that it returns the indices of the \n",
    "# likely robot locations, based on matching the measurement \n",
    "# with the color patterns in the world\n",
    "\n",
    "def find_match(world, measurement):\n",
    "    # Empty possible_locations list\n",
    "    possible_locations = []\n",
    "    \n",
    "    for i in range(0, world.shape[0]-1):\n",
    "        for j in range(0, world.shape[1]-1):\n",
    "            print(([world[i][j], world[i][j+1]])==measurement)\n",
    "                \n",
    "            \n",
    "    \n",
    "    ## TODO: Iterate through the world \n",
    "    ## Look at two adjacent indices at a time - the square the robot is \n",
    "    ## on top of and the square to its right\n",
    "    ## (Making sure not to go past the bounds of the world)\n",
    "    \n",
    "    ## TODO: If two adjacent colors in the world match \n",
    "    ## the two colors in the sensor measurement\n",
    "    ## Add those indices to the possible_locations list\n",
    "    ## Append them in the format [row_index, column_index], i.e. [0, 0]\n",
    "    \n",
    "    return possible_locations\n",
    "   \n",
    "\n",
    "# This line runs the function and stores the output - do not delete \n",
    "locations = find_match(world, measurement)\n"
   ]
  },
  {
   "cell_type": "markdown",
   "metadata": {},
   "source": [
    "### Find the first tree, `1`, in the world"
   ]
  },
  {
   "cell_type": "code",
   "execution_count": null,
   "metadata": {},
   "outputs": [],
   "source": [
    "# This function is similar to our iterate2D function,\n",
    "# But looks for the first tree in the array and prints its location [x][y]\n",
    "def first_tree(world):\n",
    "    # iterates through all indices starting at the top-left [0][0]\n",
    "    for i in range(0, world.shape[0]):\n",
    "        for j in range(0, world.shape[1]):\n",
    "            # check if a tree is found\n",
    "            if(world[i][j] == 1):\n",
    "                # if so, print the index and leave the loop with a return statement\n",
    "                print('First tree found at location: ['+str(i)+']['+str(j)+']')\n",
    "                return \n",
    "\n",
    "            \n",
    "# Call the first_tree function\n",
    "print('\\n')\n",
    "first_tree(world)"
   ]
  },
  {
   "cell_type": "code",
   "execution_count": null,
   "metadata": {},
   "outputs": [],
   "source": [
    "world.shape"
   ]
  },
  {
   "cell_type": "code",
   "execution_count": null,
   "metadata": {},
   "outputs": [],
   "source": [
    "flag = 0\n",
    "for i in range(world.shape[0]-1, -1, -1):\n",
    "    if(flag==1):\n",
    "        break\n",
    "    for j in range(world.shape[1]-1, -1, -1):\n",
    "        if(world[i][j]==1):\n",
    "            print(i, j)\n",
    "            flag= 1\n",
    "            break"
   ]
  },
  {
   "cell_type": "code",
   "execution_count": null,
   "metadata": {},
   "outputs": [],
   "source": []
  }
 ],
 "metadata": {
  "anaconda-cloud": {},
  "kernelspec": {
   "display_name": "Python 3",
   "language": "python",
   "name": "python3"
  },
  "language_info": {
   "codemirror_mode": {
    "name": "ipython",
    "version": 3
   },
   "file_extension": ".py",
   "mimetype": "text/x-python",
   "name": "python",
   "nbconvert_exporter": "python",
   "pygments_lexer": "ipython3",
   "version": "3.6.3"
  }
 },
 "nbformat": 4,
 "nbformat_minor": 1
}
