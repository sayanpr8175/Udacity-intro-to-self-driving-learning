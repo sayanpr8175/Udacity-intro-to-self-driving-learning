{
 "cells": [
  {
   "cell_type": "markdown",
   "metadata": {},
   "source": [
    "# Discrete Probability Exercise\n",
    "\n",
    "You have two dice. These are fair, six-sided dice with the values one through six.\n",
    "\n",
    "You take the dice, and you roll them. Then you take the sum of the two numbers. For example, if you roll the dice and get 5 and 4, then the sum would be 9. \n",
    "\n",
    "\n",
    "![alt text](dice.png)\n",
    "\n",
    "\n",
    "Now, you're curious to know what sum or sums are most likely to occur. So you decide to repeat your experiment two-thousand times and then analyze the results. \n",
    "\n",
    "You roll the dice over and over again. Each time you write down what sum you got."
   ]
  },
  {
   "cell_type": "markdown",
   "metadata": {},
   "source": [
    "# Results of your experiment\n",
    "\n",
    "Here are the results of your experiment. The left hand column shows the sum and the right hand column shows how many times that sum appeared over your two-thousand trials:\n",
    "\n",
    "| Dice Sum | Count |\n",
    "|----------|-------|\n",
    "| 2        | 54    |\n",
    "| 3        | 111   |\n",
    "| 4        | 163   |\n",
    "| 5        | 222   |\n",
    "| 6        | 277   |\n",
    "| 7        | 336   |\n",
    "| 8        | 276   |\n",
    "| 9        | 220   |\n",
    "| 10       | 171   |\n",
    "| 11       | 111   |\n",
    "| 12       | 59    |\n",
    "    \n",
    "Your task is to analyze these results and turn them into a discrete probability distribution. \n",
    "\n",
    "Follow along the Ipython notebook completing each exercise and demo. We've provided answers to the exercises in the next part of the lesson."
   ]
  },
  {
   "cell_type": "markdown",
   "metadata": {},
   "source": [
    "# Exercise: Create a List\n",
    "\n",
    "In order to analyze these results, you'll need to put them into some sort of data structure. For this case, use a Python list. \n",
    "\n",
    "A Python list is just what it sounds like: a list of values. \n",
    "If you had the values `1 5 19 25 and 30`, here is how you could put them in a Python list:\n",
    "\n",
    "```python\n",
    "listexample = [1, 5, 19, 25, 30]\n",
    "```"
   ]
  },
  {
   "cell_type": "code",
   "execution_count": 1,
   "metadata": {},
   "outputs": [],
   "source": [
    "#### \n",
    "# TODO: Create a Python list of the values in the 'Count' column.\n",
    "# Your list should start with 54 and follow the same order\n",
    "# as the data in the column: 54, 111, 163, etc.\n",
    "###\n",
    "\n",
    "count_data = [54, 111, 163, 222, 277, 336, 276, 220, 171, 111, 59]"
   ]
  },
  {
   "cell_type": "markdown",
   "metadata": {},
   "source": [
    "# Demo: Print Your List\n",
    "\n",
    "Run the code cell below to print out your list. This cell uses a for loop to iterate through every value in your list. Pay attention to the syntax because you'll be writing your own for loop soon."
   ]
  },
  {
   "cell_type": "code",
   "execution_count": 2,
   "metadata": {},
   "outputs": [
    {
     "name": "stdout",
     "output_type": "stream",
     "text": [
      "54\n",
      "111\n",
      "163\n",
      "222\n",
      "277\n",
      "336\n",
      "276\n",
      "220\n",
      "171\n",
      "111\n",
      "59\n"
     ]
    }
   ],
   "source": [
    "# Run this code cell. You do not need to change anything\n",
    "\n",
    "# A for loop to print out every value in the count_data list\n",
    "# The len() function determines the size of the list\n",
    "# The range() function creates an integer \n",
    "#           list from 0 to len(count_data).\n",
    "\n",
    "for i in range(len(count_data)):\n",
    "    print(count_data[i])"
   ]
  },
  {
   "cell_type": "markdown",
   "metadata": {},
   "source": [
    "# Exercise: Sum the Counts\n",
    "\n",
    "Let's double check how many trials you actually did. In this exercise, you'll calculate the sum of your count_data list. This sum represents the total number of times you rolled the dice.\n",
    "\n",
    "Finding the sum of a Python list is relatively straightforward. The syntax is:\n",
    "```\n",
    "sum(list_variable)\n",
    "```"
   ]
  },
  {
   "cell_type": "code",
   "execution_count": 4,
   "metadata": {},
   "outputs": [
    {
     "name": "stdout",
     "output_type": "stream",
     "text": [
      "2000\n",
      "2000\n"
     ]
    }
   ],
   "source": [
    "### \n",
    "# TODO: calculate the sum of the count_data list \n",
    "#     and put the sum in the total_count variable\n",
    "###\n",
    "\n",
    "print(sum(count_data))\n",
    "\n",
    "total_count = sum(count_data)\n",
    "\n",
    "# This will print out the result\n",
    "print(total_count)"
   ]
  },
  {
   "cell_type": "markdown",
   "metadata": {},
   "source": [
    "# Demo: Visualization of the Data\n",
    "\n",
    "If you look at the data, you can already tell which case has the highest probability of occurring: 7.\n",
    "\n",
    "And it also looks like the probability distribution is symmetrical with 6 and 8 having the same probability, 5 and 9, etc. Here is a visualization of the data:\n",
    "\n",
    "![Visualization](visualization.png)\n"
   ]
  },
  {
   "cell_type": "markdown",
   "metadata": {},
   "source": [
    "But is this visualization a discrete probability distribution? Here is a reminder of three important characteristics of discrete probability distributions.\n",
    "\n",
    "* For all values on the x-axis, the y value is greater than or equal to 0.\n",
    "* For each x, the probability p(x) is equal to the y value \n",
    "* The sum of all y values is 1\n",
    "\n",
    "It looks like this visualization violates the second and third criteria. The sum of the y-values is 2000 not 1. And the y values represent counts not probability."
   ]
  },
  {
   "cell_type": "markdown",
   "metadata": {},
   "source": [
    "# Exercise: Calculate a Discrete Probability Distribution\n",
    "\n",
    "How can you convert the data into a probability distribution? Currently, the sum of all the y-values is 2000, but the sum needs to equal 1. \n",
    "\n",
    "What happens if you divide each y-value by the total count of 2000? \n",
    "\n",
    "Like 54/2000, 111/2000, 163/2000, etc.? \n",
    "\n",
    "It turns out that for discrete variables, dividing each y-value by the total count will give you a discrete probability distribution. Dividing each value by the total is called normalization.\n",
    "\n",
    "In this exercise, you'll use a for loop to divide each value in your list by the total count. You'll put the results in a new list called discrete_probability.\n",
    "\n",
    "Here is some example code to give you an idea of how to create the new list that will hold the normalized counts:\n",
    "\n",
    "```python\n",
    "\n",
    "# a python list\n",
    "mylist = [1, 2, 3, 4, 5]\n",
    "\n",
    "# an empty python list\n",
    "newlist = []\n",
    "\n",
    "# for loop \n",
    "for i in range(len(mylist)):\n",
    "    newlist.append(mylist[i])\n",
    "```"
   ]
  },
  {
   "cell_type": "code",
   "execution_count": 7,
   "metadata": {},
   "outputs": [
    {
     "name": "stdout",
     "output_type": "stream",
     "text": [
      "Here are the normalized counts: \n",
      "[0.027, 0.0555, 0.0815, 0.111, 0.1385, 0.168, 0.138, 0.11, 0.0855, 0.0555, 0.0295]\n"
     ]
    }
   ],
   "source": [
    "###\n",
    "# INSTRUCTIONS: Use a for loop to iterate through the \n",
    "#      count_data list\n",
    "# \n",
    "# For each value in the list, divide the value by the total_count\n",
    "# variable.\n",
    "#\n",
    "# You will need to append the results to a new list\n",
    "#\n",
    "###\n",
    "\n",
    "normalized_counts = []\n",
    "\n",
    "for i in count_data:\n",
    "    #print(i/total_count)\n",
    "    normalized_counts.append(i/total_count)\n",
    "\n",
    "# TODO: Write a for loop to iterate through the count_data list.\n",
    "#       Use the for loop example given previously to help\n",
    "#       get yourself started\n",
    "\n",
    "    # TODO: Inside the for loop, divide each value in\n",
    "    # count_data by the total_count variable and append\n",
    "    # the result to the normalized_counts variable.\n",
    "\n",
    "print('Here are the normalized counts: ' )\n",
    "print(normalized_counts)"
   ]
  },
  {
   "cell_type": "markdown",
   "metadata": {},
   "source": [
    "# Demo: Plot Your Results\n",
    "\n",
    "We have written code for you that will plot your results. Run the cell below to see the plot. If you've normalized the counts correctly, your output should look like this plot\n",
    "\n",
    "![Probability Plot](plot.png)\n"
   ]
  },
  {
   "cell_type": "code",
   "execution_count": 9,
   "metadata": {},
   "outputs": [
    {
     "data": {
      "image/png": "[encoded data removed]",
      "text/plain": [
       "<matplotlib.figure.Figure at 0x7f4adc237cf8>"
      ]
     },
     "metadata": {
      "needs_background": "light"
     },
     "output_type": "display_data"
    }
   ],
   "source": [
    "import plot\n",
    "%matplotlib inline\n",
    "plot.plot_probability(normalized_counts)"
   ]
  },
  {
   "cell_type": "code",
   "execution_count": 13,
   "metadata": {},
   "outputs": [
    {
     "data": {
      "image/png": "[encoded data removed]",
      "text/plain": [
       "<matplotlib.figure.Figure at 0x7f4abbd4df60>"
      ]
     },
     "metadata": {
      "needs_background": "light"
     },
     "output_type": "display_data"
    }
   ],
   "source": [
    "import matplotlib.pyplot as plt\n",
    "plt.bar([2,3,4,5,6,7,8,9,10,11, 12], normalized_counts)\n",
    "plt.show()"
   ]
  },
  {
   "cell_type": "markdown",
   "metadata": {},
   "source": [
    "# Check your Results\n",
    "\n",
    "Run the code below to check your results. If the code cell prints out \"Awesome work!\", then your results were what we expected. We've also provided answer code in the next part of the lesson."
   ]
  },
  {
   "cell_type": "code",
   "execution_count": 14,
   "metadata": {},
   "outputs": [
    {
     "name": "stdout",
     "output_type": "stream",
     "text": [
      "Awesome work! Your answers are what we expected.\n"
     ]
    }
   ],
   "source": [
    "assert count_data == [54, 111, 163, 222, 277, 336, 276, 220, 171, 111, 59], \"The count_data variable is not correct.\"\n",
    "assert total_count == 2000, \"The total_count variable is not correct.\"\n",
    "assert normalized_counts == [54/2000, 111/2000, 163/2000, 222/2000, 277/2000, 336/2000, 276/2000, 220/2000, 171/2000, 111/2000, 59/2000], \"The normalized_count variable is not correct.\"\n",
    "print('Awesome work! Your answers are what we expected.')"
   ]
  },
  {
   "cell_type": "code",
   "execution_count": null,
   "metadata": {},
   "outputs": [],
   "source": []
  }
 ],
 "metadata": {
  "kernelspec": {
   "display_name": "Python 3",
   "language": "python",
   "name": "python3"
  },
  "language_info": {
   "codemirror_mode": {
    "name": "ipython",
    "version": 3
   },
   "file_extension": ".py",
   "mimetype": "text/x-python",
   "name": "python",
   "nbconvert_exporter": "python",
   "pygments_lexer": "ipython3",
   "version": "3.6.3"
  }
 },
 "nbformat": 4,
 "nbformat_minor": 2
}
